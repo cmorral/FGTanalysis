{
 "cells": [
  {
   "cell_type": "code",
   "execution_count": null,
   "id": "bb5abadb-47bc-44c8-ba06-89f4d3dca7d0",
   "metadata": {},
   "outputs": [
    {
     "name": "stdout",
     "output_type": "stream",
     "text": [
      "(1184, 1188)\n"
     ]
    }
   ],
   "source": [
    "import cv2\n",
    "import numpy as np\n",
    "import os\n",
    "import matplotlib.pyplot as plt\n",
    "\n",
    "\n",
    "\n",
    "# Load the image\n",
    "current_path = os.getcwd()\n",
    "file_name='FGT_test.png'\n",
    "image_path = os.path.join(current_path, 'images',file_name) #assuming images to process are in an 'images' folder\n",
    "image = cv2.imread(image_path, cv2.IMREAD_GRAYSCALE)  # load image, convert to grayscale when loading\n",
    "\n",
    "#Display grayscale (unprocessed) image\n",
    "plt.imshow(image, cmap='gray')\n",
    "plt.title('Original image in grayscale')\n",
    "\n",
    "\n",
    "\n",
    "# Threshold to detect light lines: higher threshold for bright features\n",
    "_, light_mask = cv2.threshold(image, 200, 255, cv2.THRESH_BINARY)\n",
    "\n",
    "# Optional: apply edge detection to focus on line structures\n",
    "edges = cv2.Canny(image, 50, 150)\n",
    "light_edges = cv2.bitwise_and(edges, light_mask)\n",
    "\n",
    "# To visualize, we can overlay light lines on a black background\n",
    "result = np.zeros_like(light_edges)\n",
    "result[light_edges > 0] = 255  # Draw white lines\n",
    "\n",
    "# Save or show the result\n",
    "cv2.imwrite('light_lines_only.jpg', result)\n",
    "cv2.imshow('Light Lines', result)\n",
    "cv2.waitKey(0)\n",
    "cv2.destroyAllWindows()"
   ]
  },
  {
   "cell_type": "code",
   "execution_count": null,
   "id": "4b108445-d902-49c7-b720-160e52ab7f88",
   "metadata": {},
   "outputs": [],
   "source": []
  }
 ],
 "metadata": {
  "kernelspec": {
   "display_name": "Python 3 (ipykernel)",
   "language": "python",
   "name": "python3"
  },
  "language_info": {
   "codemirror_mode": {
    "name": "ipython",
    "version": 3
   },
   "file_extension": ".py",
   "mimetype": "text/x-python",
   "name": "python",
   "nbconvert_exporter": "python",
   "pygments_lexer": "ipython3",
   "version": "3.9.13"
  }
 },
 "nbformat": 4,
 "nbformat_minor": 5
}
